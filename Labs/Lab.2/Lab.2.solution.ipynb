{
 "cells": [
  {
   "cell_type": "markdown",
   "metadata": {},
   "source": [
    "## Lab 2- Tic Tac Toe\n",
    "\n",
    "In this lab your will build a n x n Tic Tac Toe game. As you do the exercises, make sure your solutions work for any size Tic Tac Toe game. "
   ]
  },
  {
   "cell_type": "markdown",
   "metadata": {},
   "source": [
    "*Exercise 1:* Write a function that creates an n by n matrix (of list of lists) which will represent the state of a Tie Tac Toe game. Let 0, 1, and 2 represent empty, \"X\", and \"O\", respectively.\n"
   ]
  },
  {
   "cell_type": "code",
   "execution_count": 2,
   "metadata": {},
   "outputs": [],
   "source": [
    "def matrix(n, player_1 = 1, player_2 = 2, empty = 0):\n",
    "    board = list()\n",
    "    for i in range(n):\n",
    "        row = list()\n",
    "        for j in range(n):\n",
    "            row.append(empty)\n",
    "        board.append(row)\n",
    "    return board"
   ]
  },
  {
   "cell_type": "code",
   "execution_count": 3,
   "metadata": {},
   "outputs": [
    {
     "name": "stdout",
     "output_type": "stream",
     "text": [
      "[0, 0, 0]\n",
      "[0, 0, 0]\n",
      "[0, 0, 0]\n"
     ]
    }
   ],
   "source": [
    "n = 3\n",
    "matrix = matrix(n)\n",
    "for row in matrix:\n",
    "    print(row)"
   ]
  },
  {
   "cell_type": "markdown",
   "metadata": {},
   "source": [
    "*Exercise 2:* Write a function that takes 2 integers `n` and `m` as input and draws a `n` by `m` game board. For example the following is a 3x3 board:\n",
    "```\n",
    "   --- --- --- \n",
    "  |   |   |   | \n",
    "   --- --- ---  \n",
    "  |   |   |   | \n",
    "   --- --- ---  \n",
    "  |   |   |   | \n",
    "   --- --- --- \n",
    "   ```"
   ]
  },
  {
   "cell_type": "code",
   "execution_count": 4,
   "metadata": {},
   "outputs": [],
   "source": [
    "def game_board(n,m):\n",
    "    for row in range(n):\n",
    "        print(' ---'*m)\n",
    "        print('|   '*m+'|')\n",
    "    print(' ---'*m)"
   ]
  },
  {
   "cell_type": "code",
   "execution_count": 5,
   "metadata": {},
   "outputs": [
    {
     "name": "stdout",
     "output_type": "stream",
     "text": [
      " --- --- ---\n",
      "|   |   |   |\n",
      " --- --- ---\n",
      "|   |   |   |\n",
      " --- --- ---\n",
      "|   |   |   |\n",
      " --- --- ---\n"
     ]
    }
   ],
   "source": [
    "game_board(3,3)"
   ]
  },
  {
   "cell_type": "markdown",
   "metadata": {},
   "source": [
    "*Exercise 3:* Modify exercise 2, so that it takes a matrix of the form from exercise 1 and draws a tic-tac-tie board with \"X\"s and \"O\"s.  "
   ]
  },
  {
   "cell_type": "code",
   "execution_count": 61,
   "metadata": {},
   "outputs": [],
   "source": [
    "def matrix(n, player_1 = 1, player_2 = 2, empty = 0):\n",
    "    board = list()\n",
    "    for i in range(n):\n",
    "        row = list()\n",
    "        for j in range(n):\n",
    "            row.append(empty)\n",
    "        board.append(row)    \n",
    "    return board\n",
    "\n",
    "def print_board(board):\n",
    "    \n",
    "    n = len(board)\n",
    "    m = len(board[0])\n",
    "    \n",
    "    for row in range(n):\n",
    "        print(' ---'*m)\n",
    "        row_space = '|'\n",
    "        for cell in range(n):\n",
    "            if board[row][cell] == 1:\n",
    "                row_space += ' X |'\n",
    "            elif board[row][cell] == 2:\n",
    "                row_space += ' O |'\n",
    "            else:\n",
    "                row_space += '   |'\n",
    "        print(row_space)\n",
    "    print(' ---'*m)\n",
    "    "
   ]
  },
  {
   "cell_type": "code",
   "execution_count": 62,
   "metadata": {},
   "outputs": [
    {
     "name": "stdout",
     "output_type": "stream",
     "text": [
      "[0, 0, 0]\n",
      "[0, 0, 0]\n",
      "[0, 0, 0]\n",
      " --- --- ---\n",
      "| X |   |   |\n",
      " --- --- ---\n",
      "|   | X |   |\n",
      " --- --- ---\n",
      "|   |   | X |\n",
      " --- --- ---\n"
     ]
    }
   ],
   "source": [
    "n = 3\n",
    "for row in matrix(n):\n",
    "    print(row)\n",
    "board = matrix(n)\n",
    "\n",
    "board[0][0] = 1\n",
    "board[1][1] = 1   \n",
    "board[2][2] = 1\n",
    "\n",
    "print_board(board)\n"
   ]
  },
  {
   "cell_type": "markdown",
   "metadata": {},
   "source": [
    "*Exercise 4:* Write a function that takes a `n` by `n` matrix representing a tic-tac-toe game, and returns -1, 0, 1, or 2 indicating the game is incomplete, the game is a draw, player 1 has won, or player 2 has one, respectively. Here are some example inputs you can use to test your code:"
   ]
  },
  {
   "cell_type": "code",
   "execution_count": 16,
   "metadata": {},
   "outputs": [],
   "source": [
    "def winner(board):\n",
    "    n = len(board)\n",
    "    \n",
    "    for row in board:\n",
    "        if row.count(1) == n:\n",
    "            return 1\n",
    "        if row.count(2) == n:\n",
    "            return 2\n",
    "        \n",
    "    for col in range(n):\n",
    "        column = list()\n",
    "        for row in range(n):\n",
    "            value = board[row][col]\n",
    "            column.append(value)    \n",
    "        if column.count(1) == n:\n",
    "            return 1\n",
    "        if column.count(2) == n:\n",
    "            return 2\n",
    "    \n",
    "    for diag_b in range(n):\n",
    "        backward_diagonal = list()\n",
    "        for i in range(n):\n",
    "            value = board[i][i]\n",
    "            backward_diagonal.append(value)\n",
    "        if backward_diagonal.count(1) == n:\n",
    "            return 1  \n",
    "        if backward_diagonal.count(2) == n:\n",
    "            return 2\n",
    "        \n",
    "    for diag_f in range(n):\n",
    "        forward_diagonal = list()\n",
    "        for i in range(n):\n",
    "            value = board[i][n-1-i]\n",
    "            forward_diagonal.append(value)\n",
    "        if forward_diagonal.count(1) == n:\n",
    "            return 1\n",
    "        if forward_diagonal.count(2) == n:\n",
    "            return 2\n",
    "    \n",
    "    for row in board:\n",
    "        if 0 in row:\n",
    "            return -1\n",
    "    \n",
    "    return 0\n",
    "\n",
    "            "
   ]
  },
  {
   "cell_type": "code",
   "execution_count": 46,
   "metadata": {},
   "outputs": [
    {
     "name": "stdout",
     "output_type": "stream",
     "text": [
      "0\n"
     ]
    }
   ],
   "source": [
    "board = [[1, 2, 1],\n",
    "\t[2, 1, 2],\n",
    "\t[2, 1, 2]]\n",
    "print(winner(board))"
   ]
  },
  {
   "cell_type": "code",
   "execution_count": null,
   "metadata": {
    "collapsed": true
   },
   "outputs": [],
   "source": [
    "winner_is_2 = [[2, 2, 0],\n",
    "\t[2, 1, 0],\n",
    "\t[2, 1, 1]]\n",
    "\n",
    "winner_is_1 = [[1, 2, 0],\n",
    "\t[2, 1, 0],\n",
    "\t[2, 1, 1]]\n",
    "\n",
    "winner_is_also_1 = [[0, 1, 0],\n",
    "\t[2, 1, 0],\n",
    "\t[2, 1, 1]]\n",
    "\n",
    "no_winner = [[1, 2, 0],\n",
    "\t[2, 1, 0],\n",
    "\t[2, 1, 2]]\n",
    "\n",
    "also_no_winner = [[1, 2, 0],\n",
    "\t[2, 1, 0],\n",
    "\t[2, 1, 0]]"
   ]
  },
  {
   "cell_type": "markdown",
   "metadata": {},
   "source": [
    "*Exercise 5:* Write a function that takes a game board, player number, and `(x,y)` coordinates and places \"X\" or \"O\" in the correct location of the game board. Make sure that you only allow filling previously empty locations. Return `True` or `False` to indicate successful placement of \"X\" or \"O\"."
   ]
  },
  {
   "cell_type": "code",
   "execution_count": 185,
   "metadata": {},
   "outputs": [],
   "source": [
    "def coordinator(board, player_number, x, y):\n",
    "    if board[x][y] == 0:\n",
    "        board[x][y] = player_number\n",
    "        return True\n",
    "    return False\n",
    "    "
   ]
  },
  {
   "cell_type": "code",
   "execution_count": 186,
   "metadata": {},
   "outputs": [
    {
     "name": "stdout",
     "output_type": "stream",
     "text": [
      "True\n"
     ]
    }
   ],
   "source": [
    "board = [[0, 1, 0],\n",
    "\t[2, 1, 0],\n",
    "\t[2, 1, 1]]\n",
    "placement_result = coordinator(board,1,0,0)\n",
    "print(placement)"
   ]
  },
  {
   "cell_type": "markdown",
   "metadata": {},
   "source": [
    "*Exercise 6:* Modify Exercise 3 to show column and row labels so that players can specify location using \"A2\" or \"C1\"."
   ]
  },
  {
   "cell_type": "code",
   "execution_count": 172,
   "metadata": {},
   "outputs": [],
   "source": [
    "def matrix(n, player_1 = 1, player_2 = 2, empty = 0):\n",
    "    board = list()\n",
    "    for i in range(n):\n",
    "        row = list()\n",
    "        for j in range(n):\n",
    "            row.append(empty)\n",
    "        board.append(row)    \n",
    "    return board\n",
    "\n",
    "def print_board(board):\n",
    "\n",
    "    n = len(board)\n",
    "    m = len(board[0])\n",
    "\n",
    "    row_names = list(\"ABCDEFGHIJKLMNOPQRSTUVWXYZ\")[:n]\n",
    "    column_names = list(map(str,range(1,n+1)))\n",
    "\n",
    "    print('     '+'   '.join(column_names))\n",
    "    print('   '+' ---'*m)\n",
    "\n",
    "    for row in range(n):\n",
    "        print(row_names[row],end='  ')\n",
    "\n",
    "        row_space = '|'\n",
    "        for col in range(n):\n",
    "            if board[row][col] == 1:\n",
    "                row_space += ' X |'\n",
    "            elif board[row][col] == 2:\n",
    "                row_space += ' O |'\n",
    "            else:\n",
    "                row_space += '   |'\n",
    "        print(row_space)\n",
    "        print('   '+' ---'*m)"
   ]
  },
  {
   "cell_type": "code",
   "execution_count": 173,
   "metadata": {
    "scrolled": true
   },
   "outputs": [
    {
     "name": "stdout",
     "output_type": "stream",
     "text": [
      "     1   2   3\n",
      "    --- --- ---\n",
      "A  |   |   |   |\n",
      "    --- --- ---\n",
      "B  |   |   |   |\n",
      "    --- --- ---\n",
      "C  |   |   |   |\n",
      "    --- --- ---\n"
     ]
    }
   ],
   "source": [
    "print_board(matrix(3))"
   ]
  },
  {
   "cell_type": "markdown",
   "metadata": {},
   "source": [
    "*Exercise 7:* Write a function that takes a board, player number, and location specified as in exercise 6 and then calls exercise 5 to correctly modify the board.  "
   ]
  },
  {
   "cell_type": "code",
   "execution_count": 183,
   "metadata": {},
   "outputs": [],
   "source": [
    "def matrix(n, player_1 = 1, player_2 = 2, empty = 0):\n",
    "    board = list()\n",
    "    for i in range(n):\n",
    "        row = list()\n",
    "        for j in range(n):\n",
    "            row.append(empty)\n",
    "        board.append(row)    \n",
    "    return board\n",
    "\n",
    "def print_board(board):\n",
    "\n",
    "    n = len(board)\n",
    "    m = len(board[0])\n",
    "\n",
    "    row_names = list(\"ABCDEFGHIJKLMNOPQRSTUVWXYZ\")[:n]\n",
    "    column_names = list(map(str,range(1,n+1)))\n",
    "\n",
    "    print('     '+'   '.join(column_names))\n",
    "    print('   '+' ---'*m)\n",
    "\n",
    "    for row in range(n):\n",
    "        print(row_names[row],end='  ')\n",
    "\n",
    "        row_space = '|'\n",
    "        for col in range(n):\n",
    "            if board[row][col] == 1:\n",
    "                row_space += ' X |'\n",
    "            elif board[row][col] == 2:\n",
    "                row_space += ' O |'\n",
    "            else:\n",
    "                row_space += '   |'\n",
    "        print(row_space)\n",
    "        print('   '+' ---'*m)\n",
    "\n",
    "def coordinator(board, player_number, x, y):\n",
    "    if board[x][y] == 0:\n",
    "        board[x][y] = player_number\n",
    "        return True\n",
    "    return False\n",
    "\n",
    "def place_move(board, player_number, location):\n",
    "    n = len(board)\n",
    "    row_names = list(\"ABCDEFGHIJKLMNOPQRSTUVWXYZ\")[:n]\n",
    "    col_names = list(map(str, range(1, n + 1)))\n",
    "    \n",
    "    row_char = location[0].upper()\n",
    "    col_num = location[1:]\n",
    "\n",
    "    if row_char in row_names and col_num in col_names:\n",
    "        row_idx = row_names.index(row_char)\n",
    "        col_idx = col_names.index(col_num)\n",
    "        \n",
    "        return coordinator(board, player_number, row_idx, col_idx)\n",
    "    \n",
    "    return False"
   ]
  },
  {
   "cell_type": "code",
   "execution_count": 184,
   "metadata": {},
   "outputs": [
    {
     "name": "stdout",
     "output_type": "stream",
     "text": [
      "     1   2   3\n",
      "    --- --- ---\n",
      "A  |   | X |   |\n",
      "    --- --- ---\n",
      "B  |   |   | O |\n",
      "    --- --- ---\n",
      "C  | X |   |   |\n",
      "    --- --- ---\n"
     ]
    }
   ],
   "source": [
    "board = matrix(3)  \n",
    "place_move(board, 1, \"A2\")  \n",
    "place_move(board, 2, \"B3\")  \n",
    "place_move(board, 1, \"C1\") \n",
    "print_board(board)"
   ]
  },
  {
   "cell_type": "markdown",
   "metadata": {},
   "source": [
    "*Exercise 8:* Write a function is called with a board and player number, takes input from the player using python's `input`, and modifies the board using your function from exercise 7. Note that you should keep asking for input until you have gotten a valid input that results in a valid move."
   ]
  },
  {
   "cell_type": "code",
   "execution_count": 194,
   "metadata": {},
   "outputs": [],
   "source": [
    "def matrix(n, player_1 = 1, player_2 = 2, empty = 0):\n",
    "    board = list()\n",
    "    for i in range(n):\n",
    "        row = list()\n",
    "        for j in range(n):\n",
    "            row.append(empty)\n",
    "        board.append(row)    \n",
    "    return board\n",
    "\n",
    "def print_board(board):\n",
    "\n",
    "    n = len(board)\n",
    "    m = len(board[0])\n",
    "\n",
    "    row_names = list('ABCDEFGHIJKLMNOPQRSTUVWXYZ')[:n]\n",
    "    column_names = list(map(str,range(1,n+1)))\n",
    "\n",
    "    print('     '+'   '.join(column_names))\n",
    "    print('   '+' ---'*m)\n",
    "\n",
    "    for row in range(n):\n",
    "        print(row_names[row],end='  ')\n",
    "\n",
    "        row_space = '|'\n",
    "        for col in range(n):\n",
    "            if board[row][col] == 1:\n",
    "                row_space += ' X |'\n",
    "            elif board[row][col] == 2:\n",
    "                row_space += ' O |'\n",
    "            else:\n",
    "                row_space += '   |'\n",
    "        print(row_space)\n",
    "        print('   '+' ---'*m)\n",
    "\n",
    "def coordinator(board, player_number, x, y):\n",
    "    if board[x][y] == 0:\n",
    "        board[x][y] = player_number\n",
    "        return True\n",
    "    return False\n",
    "\n",
    "def place_move(board, player_number, location):\n",
    "    n = len(board)\n",
    "    row_names = list('ABCDEFGHIJKLMNOPQRSTUVWXYZ')[:n]\n",
    "    col_names = list(map(str, range(1, n + 1)))\n",
    "    \n",
    "    row_char = location[0].upper()\n",
    "    col_num = location[1:]\n",
    "\n",
    "    if row_char in row_names and col_num in col_names:\n",
    "        row_idx = row_names.index(row_char)\n",
    "        col_idx = col_names.index(col_num)\n",
    "        \n",
    "        return coordinator(board, player_number, row_idx, col_idx)\n",
    "    \n",
    "    return False\n",
    "\n",
    "def get_move(board, player_number):\n",
    "    while True:\n",
    "        move = input(f'Player {player_number}, enter your move.')\n",
    "        if place_move(board, player_number, move):\n",
    "            print(f'Move {move} placed successfully.')\n",
    "            break\n",
    "        else:\n",
    "            print(f'invalid move: {move}. Please choose again.')"
   ]
  },
  {
   "cell_type": "code",
   "execution_count": 195,
   "metadata": {},
   "outputs": [
    {
     "name": "stdout",
     "output_type": "stream",
     "text": [
      "     1   2   3\n",
      "    --- --- ---\n",
      "A  |   |   |   |\n",
      "    --- --- ---\n",
      "B  |   |   |   |\n",
      "    --- --- ---\n",
      "C  |   |   |   |\n",
      "    --- --- ---\n",
      "Player 1, enter your move.b2\n",
      "Move b2 placed successfully.\n",
      "     1   2   3\n",
      "    --- --- ---\n",
      "A  |   |   |   |\n",
      "    --- --- ---\n",
      "B  |   | X |   |\n",
      "    --- --- ---\n",
      "C  |   |   |   |\n",
      "    --- --- ---\n",
      "Player 2, enter your move.a1\n",
      "Move a1 placed successfully.\n",
      "     1   2   3\n",
      "    --- --- ---\n",
      "A  | O |   |   |\n",
      "    --- --- ---\n",
      "B  |   | X |   |\n",
      "    --- --- ---\n",
      "C  |   |   |   |\n",
      "    --- --- ---\n"
     ]
    }
   ],
   "source": [
    "board = matrix(3)  \n",
    "print_board(board)  \n",
    "get_move(board, 1)  \n",
    "print_board(board)  \n",
    "get_move(board, 2)  \n",
    "print_board(board)  "
   ]
  },
  {
   "cell_type": "markdown",
   "metadata": {},
   "source": [
    "*Exercise 9:* Use all of the previous exercises to implement a full tic-tac-toe game, where an appropriate board is drawn, 2 players are repeatedly asked for a location coordinates of where they wish to place a mark, and the game status is checked until a player wins or a draw occurs."
   ]
  },
  {
   "cell_type": "code",
   "execution_count": null,
   "metadata": {},
   "outputs": [],
   "source": [
    "def matrix(n, player_1 = 1, player_2 = 2, empty = 0):\n",
    "    board = list()\n",
    "    for i in range(n):\n",
    "        row = list()\n",
    "        for j in range(n):\n",
    "            row.append(empty)\n",
    "        board.append(row)    \n",
    "    return board\n",
    "\n",
    "def print_board(board):\n",
    "\n",
    "    n = len(board)\n",
    "    m = len(board[0])\n",
    "\n",
    "    row_names = list('ABCDEFGHIJKLMNOPQRSTUVWXYZ')[:n]\n",
    "    column_names = list(map(str,range(1,n+1)))\n",
    "\n",
    "    print('     '+'   '.join(column_names))\n",
    "    print('   '+' ---'*m)\n",
    "\n",
    "    for row in range(n):\n",
    "        print(row_names[row],end='  ')\n",
    "\n",
    "        row_space = '|'\n",
    "        for col in range(n):\n",
    "            if board[row][col] == 1:\n",
    "                row_space += ' X |'\n",
    "            elif board[row][col] == 2:\n",
    "                row_space += ' O |'\n",
    "            else:\n",
    "                row_space += '   |'\n",
    "        print(row_space)\n",
    "        print('   '+' ---'*m)\n",
    "\n",
    "def coordinator(board, player_number, x, y):\n",
    "    if board[x][y] == 0:\n",
    "        board[x][y] = player_number\n",
    "        return True\n",
    "    return False\n",
    "\n",
    "def place_move(board, player_number, location):\n",
    "    n = len(board)\n",
    "    row_names = list('ABCDEFGHIJKLMNOPQRSTUVWXYZ')[:n]\n",
    "    col_names = list(map(str, range(1, n + 1)))\n",
    "    \n",
    "    row_char = location[0].upper()\n",
    "    col_num = location[1:]\n",
    "\n",
    "    if row_char in row_names and col_num in col_names:\n",
    "        row_idx = row_names.index(row_char)\n",
    "        col_idx = col_names.index(col_num)\n",
    "        \n",
    "        return coordinator(board, player_number, row_idx, col_idx)\n",
    "    \n",
    "    return False\n",
    "\n",
    "def get_move(board, player_number):\n",
    "    while True:\n",
    "        move = input(f'Player {player_number}, enter your move.')\n",
    "        if place_move(board, player_number, move):\n",
    "            print(f'Move {move} placed successfully.')\n",
    "            break\n",
    "        else:\n",
    "            print(f'invalid move: {move}. Please choose again.')\n",
    "            \n",
    "def winner(board):\n",
    "    n = len(board)\n",
    "    \n",
    "    for row in board:\n",
    "        if row.count(1) == n:\n",
    "            return 1\n",
    "        if row.count(2) == n:\n",
    "            return 2\n",
    "        \n",
    "    for col in range(n):\n",
    "        column = list()\n",
    "        for row in range(n):\n",
    "            value = board[row][col]\n",
    "            column.append(value)    \n",
    "        if column.count(1) == n:\n",
    "            return 1\n",
    "        if column.count(2) == n:\n",
    "            return 2\n",
    "    \n",
    "    for diag_b in range(n):\n",
    "        backward_diagonal = list()\n",
    "        for i in range(n):\n",
    "            value = board[i][i]\n",
    "            backward_diagonal.append(value)\n",
    "        if backward_diagonal.count(1) == n:\n",
    "            return 1  \n",
    "        if backward_diagonal.count(2) == n:\n",
    "            return 2\n",
    "        \n",
    "    for diag_f in range(n):\n",
    "        forward_diagonal = list()\n",
    "        for i in range(n):\n",
    "            value = board[i][n-1-i]\n",
    "            forward_diagonal.append(value)\n",
    "        if forward_diagonal.count(1) == n:\n",
    "            return 1\n",
    "        if forward_diagonal.count(2) == n:\n",
    "            return 2\n",
    "    \n",
    "    for row in board:\n",
    "        if 0 in row:\n",
    "            return -1\n",
    "    \n",
    "    return 0"
   ]
  },
  {
   "cell_type": "code",
   "execution_count": null,
   "metadata": {},
   "outputs": [],
   "source": [
    "def play_game():\n",
    "    while True:\n",
    "        try:\n",
    "            n = int(input(\"Enter board size (e.g., 5 for 5x5): \"))\n",
    "            if n < 3 or n > 26:\n",
    "                print(\"Please enter a valid board size between 3 and 26.\")\n",
    "            else:\n",
    "                break\n",
    "        except ValueError:\n",
    "            print(\"Invalid input. Please enter a number.\")\n",
    "\n",
    "    board = matrix(n)\n",
    "    current_player = 1\n",
    "    game_over = False\n",
    "    \n",
    "    while not game_over:\n",
    "        print_board(board)\n",
    "        location = input(f\"Player {current_player}, enter your move (e.g. A1, B2): \").strip()\n",
    "\n",
    "        while not place_move(board, current_player, location):\n",
    "            print(\"Invalid move. Please try again.\")\n",
    "            location = input(f\"Player {current_player}, enter your move (e.g. A1, B2): \").strip()\n",
    "\n",
    "        game_status = winner(board)\n",
    "        if game_status == 1:\n",
    "            print_board(board)\n",
    "            print(\"Player 1 wins!\")\n",
    "            game_over = True\n",
    "        elif game_status == 2:\n",
    "            print_board(board)\n",
    "            print(\"Player 2 wins!\")\n",
    "            game_over = True\n",
    "        elif game_status == 0:\n",
    "            print_board(board)\n",
    "            print(\"Draw\")\n",
    "            game_over = True\n",
    "        \n",
    "        if current_player == 1:\n",
    "            current_player = 2\n",
    "        else:\n",
    "            current_player = 1\n",
    "\n",
    "\n",
    "play_game()\n",
    "    "
   ]
  },
  {
   "cell_type": "markdown",
   "metadata": {},
   "source": [
    "*Exercise 10:* Test that your game works for 5x5 Tic Tac Toe.  "
   ]
  },
  {
   "cell_type": "code",
   "execution_count": null,
   "metadata": {},
   "outputs": [
    {
     "name": "stdout",
     "output_type": "stream",
     "text": [
      "Enter board size (e.g., 5 for 5x5): 5\n",
      "     1   2   3   4   5\n",
      "    --- --- --- --- ---\n",
      "A  |   |   |   |   |   |\n",
      "    --- --- --- --- ---\n",
      "B  |   |   |   |   |   |\n",
      "    --- --- --- --- ---\n",
      "C  |   |   |   |   |   |\n",
      "    --- --- --- --- ---\n",
      "D  |   |   |   |   |   |\n",
      "    --- --- --- --- ---\n",
      "E  |   |   |   |   |   |\n",
      "    --- --- --- --- ---\n"
     ]
    }
   ],
   "source": [
    "def matrix(n, player_1 = 1, player_2 = 2, empty = 0):\n",
    "    board = list()\n",
    "    for i in range(n):\n",
    "        row = list()\n",
    "        for j in range(n):\n",
    "            row.append(empty)\n",
    "        board.append(row)    \n",
    "    return board\n",
    "\n",
    "def print_board(board):\n",
    "\n",
    "    n = len(board)\n",
    "    m = len(board[0])\n",
    "\n",
    "    row_names = list('ABCDEFGHIJKLMNOPQRSTUVWXYZ')[:n]\n",
    "    column_names = list(map(str,range(1,n+1)))\n",
    "\n",
    "    print('     '+'   '.join(column_names))\n",
    "    print('   '+' ---'*m)\n",
    "\n",
    "    for row in range(n):\n",
    "        print(row_names[row],end='  ')\n",
    "\n",
    "        row_space = '|'\n",
    "        for col in range(n):\n",
    "            if board[row][col] == 1:\n",
    "                row_space += ' X |'\n",
    "            elif board[row][col] == 2:\n",
    "                row_space += ' O |'\n",
    "            else:\n",
    "                row_space += '   |'\n",
    "        print(row_space)\n",
    "        print('   '+' ---'*m)\n",
    "\n",
    "def coordinator(board, player_number, x, y):\n",
    "    if board[x][y] == 0:\n",
    "        board[x][y] = player_number\n",
    "        return True\n",
    "    return False\n",
    "\n",
    "def place_move(board, player_number, location):\n",
    "    n = len(board)\n",
    "    row_names = list('ABCDEFGHIJKLMNOPQRSTUVWXYZ')[:n]\n",
    "    col_names = list(map(str, range(1, n + 1)))\n",
    "    \n",
    "    row_char = location[0].upper()\n",
    "    col_num = location[1:]\n",
    "\n",
    "    if row_char in row_names and col_num in col_names:\n",
    "        row_idx = row_names.index(row_char)\n",
    "        col_idx = col_names.index(col_num)\n",
    "        \n",
    "        return coordinator(board, player_number, row_idx, col_idx)\n",
    "    \n",
    "    return False\n",
    "\n",
    "def get_move(board, player_number):\n",
    "    while True:\n",
    "        move = input(f'Player {player_number}, enter your move.')\n",
    "        if place_move(board, player_number, move):\n",
    "            print(f'Move {move} placed successfully.')\n",
    "            break\n",
    "        else:\n",
    "            print(f'invalid move: {move}. Please choose again.')\n",
    "            \n",
    "def winner(board):\n",
    "    n = len(board)\n",
    "    \n",
    "    for row in board:\n",
    "        if row.count(1) == n:\n",
    "            return 1\n",
    "        if row.count(2) == n:\n",
    "            return 2\n",
    "        \n",
    "    for col in range(n):\n",
    "        column = list()\n",
    "        for row in range(n):\n",
    "            value = board[row][col]\n",
    "            column.append(value)    \n",
    "        if column.count(1) == n:\n",
    "            return 1\n",
    "        if column.count(2) == n:\n",
    "            return 2\n",
    "    \n",
    "    for diag_b in range(n):\n",
    "        backward_diagonal = list()\n",
    "        for i in range(n):\n",
    "            value = board[i][i]\n",
    "            backward_diagonal.append(value)\n",
    "        if backward_diagonal.count(1) == n:\n",
    "            return 1  \n",
    "        if backward_diagonal.count(2) == n:\n",
    "            return 2\n",
    "        \n",
    "    for diag_f in range(n):\n",
    "        forward_diagonal = list()\n",
    "        for i in range(n):\n",
    "            value = board[i][n-1-i]\n",
    "            forward_diagonal.append(value)\n",
    "        if forward_diagonal.count(1) == n:\n",
    "            return 1\n",
    "        if forward_diagonal.count(2) == n:\n",
    "            return 2\n",
    "    \n",
    "    for row in board:\n",
    "        if 0 in row:\n",
    "            return -1\n",
    "        \n",
    "    return 0\n",
    "\n",
    "def play_game():\n",
    "    while True:\n",
    "        try:\n",
    "            n = int(input(\"Enter board size (e.g., 5 for 5x5): \"))\n",
    "            if n < 3 or n > 26:\n",
    "                print(\"Please enter a valid board size between 3 and 26.\")\n",
    "            else:\n",
    "                break\n",
    "        except ValueError:\n",
    "            print(\"Invalid input. Please enter a number.\")\n",
    "\n",
    "    board = matrix(n)\n",
    "    current_player = 1\n",
    "    game_over = False\n",
    "    \n",
    "    while not game_over:\n",
    "        print_board(board)\n",
    "        location = input(f\"Player {current_player}, enter your move (e.g. A1, B2): \").strip()\n",
    "\n",
    "        while not place_move(board, current_player, location):\n",
    "            print(\"Invalid move. Please try again.\")\n",
    "            location = input(f\"Player {current_player}, enter your move (e.g. A1, B2): \").strip()\n",
    "\n",
    "        game_status = winner(board)\n",
    "        if game_status == 1:\n",
    "            print_board(board)\n",
    "            print(\"Player 1 wins!\")\n",
    "            game_over = True\n",
    "        elif game_status == 2:\n",
    "            print_board(board)\n",
    "            print(\"Player 2 wins!\")\n",
    "            game_over = True\n",
    "        elif game_status == 0:\n",
    "            print_board(board)\n",
    "            print(\"Draw\")\n",
    "            game_over = True\n",
    "        \n",
    "        if current_player == 1:\n",
    "            current_player = 2\n",
    "        else:\n",
    "            current_player = 1\n",
    "\n",
    "\n",
    "play_game()"
   ]
  },
  {
   "cell_type": "markdown",
   "metadata": {},
   "source": [
    "*Exercise 11:* (Advanced / Challenge) Develop a version of the game where one player is the computer. Note that you don't need to do an extensive seach for the best move. You can have the computer simply protect against loosing and otherwise try to win with straight or diagonal patterns."
   ]
  },
  {
   "cell_type": "code",
   "execution_count": null,
   "metadata": {
    "collapsed": true
   },
   "outputs": [],
   "source": [
    "# Write you solution here"
   ]
  },
  {
   "cell_type": "code",
   "execution_count": null,
   "metadata": {
    "collapsed": true
   },
   "outputs": [],
   "source": [
    "# Test your solution here"
   ]
  }
 ],
 "metadata": {
  "kernelspec": {
   "display_name": "Python 3 (ipykernel)",
   "language": "python",
   "name": "python3"
  },
  "language_info": {
   "codemirror_mode": {
    "name": "ipython",
    "version": 3
   },
   "file_extension": ".py",
   "mimetype": "text/x-python",
   "name": "python",
   "nbconvert_exporter": "python",
   "pygments_lexer": "ipython3",
   "version": "3.12.3"
  }
 },
 "nbformat": 4,
 "nbformat_minor": 2
}
