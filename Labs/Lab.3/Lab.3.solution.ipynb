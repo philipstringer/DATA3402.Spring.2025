{
 "cells": [
  {
   "cell_type": "markdown",
   "metadata": {},
   "source": [
    "# Lab 3\n",
    "\n",
    "In this lab we will become familiar with distributions, histograms, and functional programming. Do not use numpy or any other library for this lab.\n",
    "\n",
    "Before that, lets get setup homework submission and submit your previous lab.  \n",
    "\n",
    "## Working on the Command-line.\n",
    "\n",
    "It is important for you to learn to work on the command line and to be familiar with the Unix environment (e.g. Linux, Mac OS, or Windows Linux Subsystem). We'll go over working on the command-line in detail later in the course.\n",
    "\n",
    "You are required to submit your work in this course via GitHub. Today in class, you will setup everything on the command-line.\n",
    "\n",
    "### Command-line basics\n",
    "\n",
    "There is plenty of material online that will help you figure out how to do various tasks on the command line. Commands you may need to know today:\n",
    "\n",
    "* `ls`: lists the contents of the current directory.\n",
    "* `pwd`: prints the path of the current directory.\n",
    "* `cd <directory>`: changes your current directory to the specified directory.\n",
    "* `cd ..`: changes current directory to the previous directory. Basically steps out of the current directory to the directory containing the current directory.\n",
    "* `mkdir <directory>`: create a new directory with the specified name.\n",
    "* `rmdir <directory>`: removes the specified directory. Note it has to be empty.\n",
    "* `rm <filename>`: deletes the specified file.\n",
    "* `mv <filename 1> <filename 2>`: Moves or renames a file.\n",
    "* `cp <filename 1> <filename 2>`: copies an file. If you just provide a path to a directory, it copies the file into that directory with the same filename. If you specifiy a new filename, the copy has a new name. For example `cp File.1.txt File.2.txt` creates a copy of `File.1.txt` with the name `File.2.txt`. Meanwhile `cp File.1.txt my_directory`, where `my_directory` is a directory, creates a copy of `File.1.txt` in directory `my_directory` with the name `File.1.txt`.\n",
    "\n",
    "For reference, here are some example resources I found by googling:\n",
    "\n",
    "* Paths and Wildcards: https://www.warp.dev/terminus/linux-wildcards\n",
    "* Basic commands like copy: https://kb.iu.edu/d/afsk\n",
    "* General introduction to shell: https://github-pages.ucl.ac.uk/RCPSTrainingMaterials/HPCandHTCusingLegion/2_intro_to_shell.html\n",
    "* Manual pages: https://www.geeksforgeeks.org/linux-man-page-entries-different-types/?ref=ml_lbp\n",
    "* Chaining commands: https://www.geeksforgeeks.org/chaining-commands-in-linux/?ref=ml_lbp\n",
    "* Piping: https://www.geeksforgeeks.org/piping-in-unix-or-linux/\n",
    "* Using sed: https://www.geeksforgeeks.org/sed-command-linux-set-2/?ref=ml_lbp\n",
    "* Various Unix commands: https://www.geeksforgeeks.org/linux-commands/?ref=lbp\n",
    "* Cheat sheets:\n",
    "    * https://www.stationx.net/unix-commands-cheat-sheet/\n",
    "    * https://cheatography.com/davechild/cheat-sheets/linux-command-line/\n",
    "    * https://www.theknowledgeacademy.com/blog/unix-commands-cheat-sheet/\n",
    "    \n",
    "These aren't necessarily the best resources. Feel free to search for better ones. Also, don't forget that Unix has built-in manual pages for all of its commands. Just type `man <command>` at the command prompt. Use the space-bar to scroll through the documentation and \"q\" to exit.\n",
    "\n",
    "\n",
    "### Setup and Submission\n",
    "\n",
    "Our course repository is public. The instructions here aim to have you setup a fork of the course repository. Unfortunately because you are forking a public repo, your fork will have to be public also. \n",
    "\n",
    "You should be familiar with git from the first semester of this course. I assume that you all have github accounts and have setup things to be able to [push to github using ssh](https://docs.github.com/en/github/authenticating-to-github/connecting-to-github-with-ssh). The instuctions here lead you to:\n",
    "\n",
    "We'll overview what you will do before going through step by step instructions.\n",
    "\n",
    "1. Setup:\n",
    "    1. Fork the class repository. Some directions in [fork-a-repo](https://docs.github.com/en/github/getting-started-with-github/fork-a-repo).\n",
    "    1. Create a directory on your personal system where you will keep all course materials.\n",
    "    1. In that directory, clone your fork of the repository.\n",
    "    1. Using `git remote`, set the upstream to be the class repo, so you can pull from the class and push to your fork.\n",
    "\n",
    "1. Submission:\n",
    "    1. Copy your solutions into the appropriate directory (e.g. into `Labs/Lab.2/`) and with appropriate filename `Lab.2.solution.ipynb'.\n",
    "    1. Commit / push your solutions.\n",
    " \n",
    "Below are step by step instructions with examples (including example directory naming convention). Feel free to modify things as you see fit. \n",
    "\n",
    "#### Setup\n",
    "You should only need to follow this instructions once. Here are some useful git commands:\n",
    "\n",
    "* Git help: `git help`\n",
    "* Git remote help: `git help remote`\n",
    "* Check remote status: `git remote -v`\n",
    "* Add a remote: `git remote add <stream name> <repo URL>`\n",
    "* Add a remove: `git remote remove <stream name>`\n",
    "\n",
    "Steps:\n",
    "1. In a browser, log into GitHub and navigate to the [course repository](https://github.com/UTA-DataScience/DATA3402.Spring.2025).\n",
    "1. On the top right of the page, press the fork button to create a new fork into your own GitHub account.\n",
    "1. After successful fork, you should find the browser showing your fork of the course repository. Use the green \"Code\" button to copy path to the repo into your the clipboard of your computer.\n",
    "1. Open a shell on your personal computer.\n",
    "1. If you have not done so already, create a new directory/folder where you will keep all course material to navigate to it. For example: `mkdir Data-3402` and `cd Data-3402`.\n",
    "1. Clone your fork of the repository using `git clone` followed by the path you copied into your clipboard. (copy/paste)\n",
    "1. Paste the URL to your fork in the worksheet for the TAs and instructors.\n",
    "1. Now go into the directory of your clone (`cd DATA3402.Spring.2025`).\n",
    "1. Type `git remote -v` to see the current setup for fetch and pull.\n",
    "1. Note the URL you see. This should be the same as what you used for your clone for both push and fetch.\n",
    "1. Delete the origin remote using `git remote remove origin`.\n",
    "1. Add the course repo as your remote using `git remote add origin https://github.com/UTA-DataScience/DATA3402.Spring.2025.git`.\n",
    "1. Change the push to point to your fork. This means you will need the URL to your clone we copied earlier and confirmed as the original origin. The command will look something like: `git remote set-url --push origin  https://github.com/XXXXXX/DATA3402.Spring.2025.git`, where XXXXX is your username on GitHub.\n",
    "1. Note that if you setup everything correctly, you now should be able to do `git pull` to get updates from the course repo, and do `git push` to push your commits into your own fork.\n",
    "\n",
    "### Submission\n",
    "These instructions outline how you submit files. Some useful commands:\n",
    "* To add a file to local repository: `git add <file>`.\n",
    "* To commit all changed files into local repository: `git -a -m \"A message\"`. You need to provide some comment when you commit. \n",
    "* To push the commited files from the local repository to GitHub: `git push`.\n",
    "* To get updates from GitHub: `git pull`.\n",
    "\n",
    "Steps:\n",
    "1. To submit your labs, navigate to your clone of your fork of the course repository. \n",
    "1. Use `git pull` to make sure you have the latest updates. \n",
    "1. Make sure your copy of the lab your are working on is in the appropriate place in this clone. That means if you have the file elsewhere, copy it to the same directory in your clone of your fork. \n",
    "1. Note that in order to avoid future conflicts, you should always name your solution differently than the original file in the class repo. For example if your file is still named `Lab.2.ipynb` you should rename it using the `mv` command: `mv Lab.2.ipynb Lab.2.solution.ipynb`. \n",
    "1. Add and files you wish to submit into the repo. For example: `git add Labs/Lab.2/Lab.2.solution.ipynb`\n",
    "1. Commit any changes: `git commit -a -m \"Lab 2 updates\"`\n",
    "1. Push your changes: `git push`\n",
    "1. Check on github website that your solutions have been properly submitted.\n",
    "\n",
    "Before you leave the session today, make sure your GitHub Repo is setup. If you need to work further on your lab, navigate jupyter to the copy of the lab you just submitted and work there. Once done, repeat the commit and push commands to submit your updated solution. Note that lab 2 is due by midnight Friay 1/31/2025.\n"
   ]
  },
  {
   "cell_type": "markdown",
   "metadata": {},
   "source": [
    "### Uniform Distribution\n",
    "Lets start with generating some fake random data. You can get a random number between 0 and 1 using the python random module as follow:"
   ]
  },
  {
   "cell_type": "code",
   "execution_count": 3,
   "metadata": {},
   "outputs": [
    {
     "name": "stdout",
     "output_type": "stream",
     "text": [
      "The Value of x is 0.4356129839937283\n"
     ]
    }
   ],
   "source": [
    "import random\n",
    "x=random.random()\n",
    "print(\"The Value of x is\", x)"
   ]
  },
  {
   "cell_type": "markdown",
   "metadata": {},
   "source": [
    "Everytime you call random, you will get a new number.\n",
    "\n",
    "*Exercise 1:* Using random, write a function `generate_uniform(N, mymin, mymax)`, that returns a python list containing N random numbers between specified minimum and maximum value. Note that you may want to quickly work out on paper how to turn numbers between 0 and 1 to between other values. "
   ]
  },
  {
   "cell_type": "code",
   "execution_count": 4,
   "metadata": {},
   "outputs": [],
   "source": [
    "# Skeleton\n",
    "def generate_uniform(N,x_min,x_max):\n",
    "    out = []\n",
    "    ### BEGIN SOLUTION\n",
    "\n",
    "    for num in range(N):\n",
    "        out.append(random.uniform(x_min,x_max))\n",
    "    \n",
    "    ### END SOLUTION\n",
    "    return out"
   ]
  },
  {
   "cell_type": "code",
   "execution_count": 5,
   "metadata": {},
   "outputs": [
    {
     "name": "stdout",
     "output_type": "stream",
     "text": [
      "Data Type: <class 'list'>\n",
      "Data Length: 1000\n",
      "Type of Data Contents: <class 'float'>\n",
      "Data Minimum: -9.993044607489912\n",
      "Data Maximum: 19.989112735913203\n"
     ]
    }
   ],
   "source": [
    "# Test your solution here\n",
    "data=generate_uniform(1000,-10,20)\n",
    "print (\"Data Type:\", type(data))\n",
    "print (\"Data Length:\", len(data))\n",
    "if len(data)>0: \n",
    "    print (\"Type of Data Contents:\", type(data[0]))\n",
    "    print (\"Data Minimum:\", min(data))\n",
    "    print (\"Data Maximum:\", max(data))"
   ]
  },
  {
   "cell_type": "markdown",
   "metadata": {},
   "source": [
    "*Exercise 2a:* \n",
    "Write a function that computes the mean of values in a list. Recall the equation for the mean of a random variable $\\bf{x}$ computed on a data set of $n$ values $\\{ x_i \\} = \\{x_1, x_2, ..., x_n\\}$  is ${\\bf\\bar{x}} = \\frac{1}{n} \\sum_i^n x_i$."
   ]
  },
  {
   "cell_type": "code",
   "execution_count": 6,
   "metadata": {},
   "outputs": [],
   "source": [
    "# Skeleton\n",
    "def mean(Data):\n",
    "    m=0.\n",
    "    \n",
    "    ### BEGIN SOLUTION\n",
    "\n",
    "    m = sum(Data)/len(Data)    \n",
    "    \n",
    "    ### END SOLUTION\n",
    "    \n",
    "    return m"
   ]
  },
  {
   "cell_type": "code",
   "execution_count": 7,
   "metadata": {},
   "outputs": [
    {
     "name": "stdout",
     "output_type": "stream",
     "text": [
      "Mean of Data: 5.053793845162865\n"
     ]
    }
   ],
   "source": [
    "# Test your solution here\n",
    "print (\"Mean of Data:\", mean(data))"
   ]
  },
  {
   "cell_type": "markdown",
   "metadata": {},
   "source": [
    "*Exercise 2b:* \n",
    "Write a function that computes the variance of values in a list. Recall the equation for the variance of a random variable $\\bf{x}$ computed on a data set of $n$ values $\\{ x_i \\} = \\{x_1, x_2, ..., x_n\\}$  is ${\\bf\\langle x \\rangle} = \\frac{1}{n-1} \\sum_i^n (x_i - {\\bf\\bar{x}})^2$."
   ]
  },
  {
   "cell_type": "code",
   "execution_count": 8,
   "metadata": {},
   "outputs": [],
   "source": [
    "# Skeleton\n",
    "def variance(Data):\n",
    "    m=0.\n",
    "    \n",
    "    ### BEGIN SOLUTION\n",
    "\n",
    "    if len(Data) < 2:\n",
    "        print(\"Zero Division Error\")\n",
    "        return \"None\"\n",
    "    mean_val = mean(Data)\n",
    "    v=list()\n",
    "    for x in Data:\n",
    "        v.append((x-mean_val)**2)\n",
    "    \n",
    "    m=sum(v)/(len(Data)-1)\n",
    "    \n",
    "    ### END SOLUTION\n",
    "    \n",
    "    return m"
   ]
  },
  {
   "cell_type": "code",
   "execution_count": 9,
   "metadata": {},
   "outputs": [
    {
     "name": "stdout",
     "output_type": "stream",
     "text": [
      "Variance of Data: 75.45993360408166\n"
     ]
    }
   ],
   "source": [
    "# Test your solution here\n",
    "print (\"Variance of Data:\", variance(data))"
   ]
  },
  {
   "cell_type": "markdown",
   "metadata": {},
   "source": [
    "## Histogramming"
   ]
  },
  {
   "cell_type": "markdown",
   "metadata": {},
   "source": [
    "*Exercise 3:* Write a function that bins the data so that you can create a histogram. An example of how to implement histogramming is the following logic:\n",
    "\n",
    "* User inputs a list of values `x` and optionally `n_bins` which defaults to 10.\n",
    "* If not supplied, find the minimum and maximum (`x_min`,`x_max`) of the values in x.\n",
    "* Determine the bin size (`bin_size`) by dividing the range of the function by the number of bins.\n",
    "* Create an empty list of zeros of size `n_bins`, call it `hist`.\n",
    "* Loop over the values in `x`\n",
    "    * Loop over the values in `hist` with index `i`:\n",
    "        * If x is between `x_min+i*bin_size` and `x_min+(i+1)*bin_size`, increment `hist[i].` \n",
    "        * For efficiency, try to use continue to goto the next bin and data point.\n",
    "* Return `hist` and the list corresponding of the bin edges (i.e. of `x_min+i*bin_size`).    "
   ]
  },
  {
   "cell_type": "code",
   "execution_count": 10,
   "metadata": {},
   "outputs": [],
   "source": [
    "# Solution\n",
    "def histogram(x,n_bins=20,x_min=None,x_max=None):\n",
    "    ### BEGIN SOLUTION\n",
    "    if x_min == None:\n",
    "        x_min=min(x)\n",
    "    if x_max == None:\n",
    "        x_max=max(x)\n",
    "        \n",
    "    bin_size = (x_max-x_min)/n_bins\n",
    "    \n",
    "    bin_edges = [x_min+i*bin_size for i in range(n_bins)]\n",
    "    \n",
    "    hist=[0]*n_bins\n",
    "    \n",
    "    for d in x:\n",
    "        for i,(low_edge,high_edge) in enumerate(zip(bin_edges[:-1],bin_edges[1:])):\n",
    "            if low_edge <= d < high_edge:\n",
    "                hist[i] += 1\n",
    "                break\n",
    "    \n",
    "    ### END SOLUTION\n",
    "\n",
    "    return hist,bin_edges"
   ]
  },
  {
   "cell_type": "code",
   "execution_count": 11,
   "metadata": {},
   "outputs": [
    {
     "name": "stdout",
     "output_type": "stream",
     "text": [
      "[10, 10, 9, 6, 7, 7, 10, 15, 10, 13, 10, 10, 14, 9, 12, 11, 15, 9, 6, 11, 9, 13, 13, 5, 9, 10, 11, 10, 6, 7, 8, 11, 5, 10, 18, 12, 11, 12, 11, 12, 11, 10, 6, 8, 8, 5, 9, 12, 7, 8, 11, 15, 8, 13, 10, 15, 14, 7, 4, 4, 14, 7, 9, 11, 10, 13, 7, 11, 10, 4, 13, 8, 13, 13, 9, 11, 9, 9, 12, 4, 14, 9, 8, 18, 11, 10, 12, 6, 10, 10, 9, 15, 12, 11, 11, 8, 10, 6, 12, 0]\n"
     ]
    }
   ],
   "source": [
    "import numpy as np\n",
    "# Test your solution here\n",
    "h,p = histogram(data,100)\n",
    "print(h)\n"
   ]
  },
  {
   "cell_type": "markdown",
   "metadata": {},
   "source": [
    "*Exercise 4:* Write a function that uses the histogram function in the previous exercise to create a text-based \"graph\". For example the output could look like the following:\n",
    "```\n",
    "[  0,  1] : ######\n",
    "[  1,  2] : #####\n",
    "[  2,  3] : ######\n",
    "[  3,  4] : ####\n",
    "[  4,  5] : ####\n",
    "[  5,  6] : ######\n",
    "[  6,  7] : #####\n",
    "[  7,  8] : ######\n",
    "[  8,  9] : ####\n",
    "[  9, 10] : #####\n",
    "```\n",
    "\n",
    "Where each line corresponds to a bin and the number of `#`'s are proportional to the value of the data in the bin. "
   ]
  },
  {
   "cell_type": "code",
   "execution_count": 12,
   "metadata": {},
   "outputs": [],
   "source": [
    "# Solution\n",
    "def draw_histogram(x, n_bins, x_min=None, x_max=None, character=\"#\", max_character_per_line=20):\n",
    "    ### BEGIN SOLUTION\n",
    "\n",
    "    hist, bin_edges = histogram(x, n_bins, x_min, x_max)\n",
    "    \n",
    "    max_count = max(hist)\n",
    "    if max_count == 0:\n",
    "        max_count = 1 \n",
    "        \n",
    "    scale = max_character_per_line / max_count\n",
    "    \n",
    "    for i, (low_edge, high_edge) in enumerate(zip(bin_edges[:-1], bin_edges[1:])):\n",
    "        bar_length = int(hist[i] * scale)\n",
    "        bar = character * bar_length\n",
    "        print(f\"[{low_edge:4.1f}, {high_edge:4.1f}] : {bar}\")\n",
    "    \n",
    "    ### END SOLUTION\n",
    "\n"
   ]
  },
  {
   "cell_type": "code",
   "execution_count": 13,
   "metadata": {},
   "outputs": [
    {
     "name": "stdout",
     "output_type": "stream",
     "text": [
      "[-10.0, -8.5] : ##############\n",
      "[-8.5, -7.0] : ##################\n",
      "[-7.0, -5.5] : ##################\n",
      "[-5.5, -4.0] : #################\n",
      "[-4.0, -2.5] : ################\n",
      "[-2.5, -1.0] : ##############\n",
      "[-1.0,  0.5] : #################\n",
      "[ 0.5,  2.0] : ###################\n",
      "[ 2.0,  3.5] : ##############\n",
      "[ 3.5,  5.0] : #############\n",
      "[ 5.0,  6.5] : ###################\n",
      "[ 6.5,  8.0] : ##############\n",
      "[ 8.0,  9.5] : #################\n",
      "[ 9.5, 11.0] : ###############\n",
      "[11.0, 12.5] : ##################\n",
      "[12.5, 14.0] : ###############\n",
      "[14.0, 15.5] : ####################\n",
      "[15.5, 17.0] : ################\n",
      "[17.0, 18.5] : ###################\n"
     ]
    }
   ],
   "source": [
    "# Test your solution here\n",
    "draw_histogram(data,20)"
   ]
  },
  {
   "cell_type": "markdown",
   "metadata": {},
   "source": [
    "## Functional Programming\n",
    "\n",
    "*Exercise 5:* Write a function the applies a booling function (that returns true/false) to every element in data, and return a list of indices of elements where the result was true. Use this function to find the indices of entries greater than 0.5. "
   ]
  },
  {
   "cell_type": "code",
   "execution_count": 17,
   "metadata": {},
   "outputs": [],
   "source": [
    "def where(mylist,myfunc):\n",
    "    out= []\n",
    "    \n",
    "    ### BEGIN SOLUTION\n",
    "    for i, x in enumerate(mylist):\n",
    "        if myfunc(x):\n",
    "            out.append(i)\n",
    "        \n",
    "    \n",
    "    ### END SOLUTION\n",
    "    \n",
    "    return out"
   ]
  },
  {
   "cell_type": "code",
   "execution_count": 19,
   "metadata": {},
   "outputs": [
    {
     "name": "stdout",
     "output_type": "stream",
     "text": [
      "[3, 4, 6, 7, 11, 12, 13, 15, 18, 20, 21, 22, 27, 28, 29, 30, 32, 33, 34, 35, 36, 37, 38, 40, 41, 42, 43, 44, 45, 47, 48, 49, 52, 57, 58, 60, 61, 62, 63, 64, 66, 68, 70, 71, 73, 74, 77, 78, 79, 80, 81, 82, 83, 85, 86, 90, 93, 94, 95, 96, 99, 100, 101, 102, 103, 104, 108, 109, 111, 112, 114, 116, 119, 120, 121, 122, 124, 126, 127, 129, 130, 131, 132, 133, 136, 138, 141, 142, 144, 145, 146, 147, 149, 150, 151, 152, 153, 154, 155, 156, 157, 158, 159, 160, 161, 162, 163, 165, 166, 167, 169, 171, 172, 174, 176, 177, 180, 181, 182, 183, 184, 188, 189, 191, 192, 193, 195, 198, 199, 200, 201, 204, 205, 206, 209, 211, 212, 214, 217, 219, 221, 222, 223, 224, 225, 226, 228, 231, 232, 235, 236, 238, 239, 240, 241, 242, 243, 244, 246, 247, 249, 251, 254, 255, 257, 258, 260, 263, 265, 267, 268, 270, 271, 272, 275, 278, 279, 280, 282, 283, 285, 286, 287, 288, 291, 292, 296, 298, 299, 300, 302, 304, 305, 306, 307, 308, 309, 310, 311, 313, 314, 315, 316, 319, 320, 321, 325, 327, 328, 330, 331, 333, 334, 335, 337, 338, 339, 341, 343, 344, 345, 347, 348, 350, 352, 353, 356, 358, 360, 361, 368, 370, 372, 373, 375, 377, 378, 379, 380, 381, 382, 383, 385, 386, 387, 388, 389, 390, 392, 393, 394, 395, 397, 398, 399, 402, 403, 405, 406, 407, 408, 409, 410, 411, 412, 413, 415, 417, 418, 420, 421, 422, 424, 425, 426, 427, 428, 429, 430, 432, 433, 434, 436, 437, 441, 442, 444, 445, 446, 447, 448, 452, 453, 456, 457, 459, 460, 461, 462, 463, 467, 468, 469, 470, 471, 478, 480, 481, 482, 484, 485, 488, 489, 490, 492, 493, 494, 495, 496, 497, 500, 501, 503, 505, 506, 508, 509, 513, 514, 515, 518, 519, 520, 521, 523, 524, 525, 526, 527, 528, 531, 533, 534, 536, 538, 539, 540, 541, 542, 546, 547, 549, 550, 551, 552, 553, 555, 557, 558, 560, 561, 567, 570, 571, 572, 574, 576, 577, 578, 580, 581, 582, 586, 587, 588, 590, 591, 593, 594, 596, 599, 600, 601, 602, 604, 606, 607, 610, 612, 613, 614, 615, 616, 617, 620, 621, 622, 623, 624, 625, 626, 628, 630, 634, 635, 636, 637, 638, 639, 640, 642, 644, 645, 646, 647, 652, 653, 656, 657, 658, 659, 661, 662, 663, 664, 665, 667, 668, 670, 671, 672, 674, 675, 676, 677, 678, 679, 681, 682, 683, 684, 685, 686, 687, 688, 690, 691, 692, 694, 695, 699, 700, 702, 703, 704, 705, 707, 708, 709, 710, 711, 712, 713, 714, 716, 717, 719, 720, 721, 722, 723, 724, 727, 729, 731, 732, 735, 737, 738, 742, 743, 744, 745, 746, 748, 750, 753, 754, 755, 756, 757, 758, 759, 762, 763, 764, 766, 767, 769, 770, 773, 774, 775, 776, 777, 778, 779, 780, 781, 783, 784, 785, 786, 789, 790, 792, 793, 794, 795, 797, 800, 801, 802, 803, 804, 809, 811, 812, 814, 815, 821, 822, 823, 824, 825, 826, 827, 828, 830, 832, 833, 834, 836, 837, 839, 840, 841, 842, 843, 844, 847, 850, 851, 852, 854, 855, 856, 857, 858, 861, 862, 864, 865, 868, 869, 870, 871, 872, 873, 876, 877, 878, 879, 881, 883, 884, 885, 886, 888, 890, 891, 892, 893, 894, 895, 896, 897, 901, 902, 905, 906, 907, 908, 913, 914, 915, 917, 918, 919, 920, 922, 923, 924, 925, 926, 928, 929, 930, 931, 932, 933, 934, 935, 936, 937, 938, 939, 940, 943, 944, 947, 949, 950, 952, 953, 956, 957, 959, 961, 962, 963, 966, 968, 969, 970, 971, 972, 974, 975, 976, 979, 980, 981, 984, 985, 988, 990, 991, 993, 994, 997]\n"
     ]
    }
   ],
   "source": [
    "# Test your solution here\n",
    "function = lambda x: x>0.5\n",
    "\n",
    "results = where(data,function)\n",
    "print(results)"
   ]
  },
  {
   "cell_type": "markdown",
   "metadata": {},
   "source": [
    "*Exercise 6:* The `inrange(mymin,mymax)` function below returns a function that tests if it's input is between the specified values. Write corresponding functions that test:\n",
    "* Even\n",
    "* Odd\n",
    "* Greater than\n",
    "* Less than\n",
    "* Equal\n",
    "* Divisible by"
   ]
  },
  {
   "cell_type": "code",
   "execution_count": 20,
   "metadata": {},
   "outputs": [
    {
     "name": "stdout",
     "output_type": "stream",
     "text": [
      "True True False False False\n",
      "False False True True False\n",
      "Number of Entries passing F1: 334\n",
      "Number of Entries passing F2: 340\n"
     ]
    }
   ],
   "source": [
    "def in_range(mymin,mymax):\n",
    "    def testrange(x):\n",
    "        return x<mymax and x>=mymin\n",
    "    return testrange\n",
    "\n",
    "# Examples:\n",
    "F1=in_range(0,10)\n",
    "F2=in_range(10,20)\n",
    "\n",
    "# Test of in_range\n",
    "print (F1(0), F1(1), F1(10), F1(15), F1(20))\n",
    "print (F2(0), F2(1), F2(10), F2(15), F2(20))\n",
    "\n",
    "print (\"Number of Entries passing F1:\", len(where(data,F1)))\n",
    "print (\"Number of Entries passing F2:\", len(where(data,F2)))\n"
   ]
  },
  {
   "cell_type": "code",
   "execution_count": 21,
   "metadata": {},
   "outputs": [],
   "source": [
    "### BEGIN SOLUTION\n",
    "def even(data):\n",
    "    \n",
    "    return [x % 2 == 0 for x in data]\n",
    "    \n",
    "def odd(data):\n",
    "    \n",
    "    return [x % 2 != 0 for x in data]\n",
    "\n",
    "def greater_than(data,number):\n",
    "    \n",
    "    return [x > number for x in data]\n",
    "    \n",
    "def less_than(data,number):\n",
    "    \n",
    "    return [x < number for x in data]\n",
    "    \n",
    "def equal_to(data,number):\n",
    "    \n",
    "    return [x for x in data if x == number]\n",
    "\n",
    "def divisible_by(data,number):\n",
    "    \n",
    "    return [x % number == 0 for x in data]\n",
    "\n",
    "### END SOLUTION"
   ]
  },
  {
   "cell_type": "code",
   "execution_count": 22,
   "metadata": {},
   "outputs": [
    {
     "name": "stdout",
     "output_type": "stream",
     "text": [
      "Total even numbers: 334.\n",
      "Total odd numbers: 317.\n",
      "Total total numbers greater than 572: 286.\n",
      "Total total numbers less than 572: 364.\n",
      "Enter a whole number ranged from 1-1000: 727\n",
      "727 is equal to a number on the list.\n",
      "Enter a whole number ranged from 1-10: 5\n",
      "Total number of values divisible by 5: 130\n"
     ]
    }
   ],
   "source": [
    "def function(x):\n",
    "    return x>0.5\n",
    "\n",
    "data2 = where(data, function)\n",
    "list_1 = even(data2)\n",
    "total = sum(list_1)\n",
    "print(f\"Total even numbers: {total}.\")\n",
    "\n",
    "list_2 = odd(data2)\n",
    "total = sum(list_2)\n",
    "print(f\"Total odd numbers: {total}.\")\n",
    "\n",
    "num = random.randint(0,1000)\n",
    "list_3 = greater_than(data2,num)\n",
    "total = sum(list_3)\n",
    "print(f\"Total total numbers greater than {num}: {total}.\")\n",
    "\n",
    "list_4 = less_than(data2,num)\n",
    "total = sum(list_4)\n",
    "print(f\"Total total numbers less than {num}: {total}.\")\n",
    "\n",
    "num = int(input(\"Enter a whole number ranged from 1-1000: \"))\n",
    "result = equal_to(data2,num)\n",
    "if result:\n",
    "    print(f\"{num} is equal to a number on the list.\")\n",
    "else:\n",
    "    print(f\"{num} is not equal to a number on the list.\")\n",
    "    \n",
    "num = int(input(\"Enter a whole number ranged from 1-10: \"))\n",
    "list_5 = divisible_by(data2, num)\n",
    "total = sum(list_5)\n",
    "print(f\"Total number of values divisible by {num}: {total}\")\n",
    "\n",
    "\n",
    "    "
   ]
  },
  {
   "cell_type": "markdown",
   "metadata": {},
   "source": [
    "*Exercise 7:* Repeat the previous exercise using `lambda` and the built-in python functions sum and map instead of your solution above. "
   ]
  },
  {
   "cell_type": "code",
   "execution_count": 23,
   "metadata": {},
   "outputs": [
    {
     "name": "stdout",
     "output_type": "stream",
     "text": [
      "Total even numbers: 334\n",
      "Total odd numbers: 317\n",
      "Total numbers greater than 503: 328\n",
      "Total numbers less than 784: 510\n",
      "Enter a whole number ranged from 1-1000: 727\n",
      "727 is equal to a number on the list.\n",
      "Enter a whole number ranged from 1-10: 5\n",
      "Total number of values divisible by 5: 130\n"
     ]
    }
   ],
   "source": [
    "### BEGIN SOLUTION\n",
    "\n",
    "def even():\n",
    "    \n",
    "    return lambda x: x%2 == 0\n",
    "    \n",
    "def odd():\n",
    "    \n",
    "    return lambda x: x%2 != 0\n",
    "\n",
    "def greater_than(number):\n",
    "    \n",
    "    return lambda x: x>number\n",
    "    \n",
    "def less_than(number):\n",
    "    \n",
    "    return lambda x: x<number\n",
    "    \n",
    "def equal_to(number):\n",
    "    \n",
    "    return lambda x: x==number\n",
    "\n",
    "def divisible_by(number):\n",
    "    \n",
    "    return lambda x: x%number == 0\n",
    "\n",
    "data2 = where(data,lambda x: x>0.5)\n",
    "even_data = where(data2,even())\n",
    "total = len(even_data)\n",
    "print(f\"Total even numbers: {total}\")\n",
    "\n",
    "odd_data = where(data2,odd())\n",
    "total = len(odd_data)\n",
    "print(f\"Total odd numbers: {total}\")\n",
    "\n",
    "num = random.randint(0,1000)\n",
    "greater_than_data = where(data2,greater_than(num))\n",
    "total = len(greater_than_data)\n",
    "print(f\"Total numbers greater than {num}: {total}\")\n",
    "\n",
    "num = random.randint(0,1000)\n",
    "less_than_data = where(data2,less_than(num))\n",
    "total = len(less_than_data)\n",
    "print(f\"Total numbers less than {num}: {total}\")\n",
    "\n",
    "num = int(input(\"Enter a whole number ranged from 1-1000: \"))\n",
    "equal_to_data = where(data2,equal_to(num))\n",
    "if equal_to_data:\n",
    "    print(f\"{num} is equal to a number on the list.\")\n",
    "else:\n",
    "    print(f\"{num} is not equal to a number on the list.\")\n",
    "    \n",
    "num = int(input(\"Enter a whole number ranged from 1-10: \"))\n",
    "divisible_by_data = where(data2,divisible_by(num))\n",
    "total = len(divisible_by_data)\n",
    "print(f\"Total number of values divisible by {num}: {total}\")\n",
    "\n",
    "    \n",
    "\n",
    "### END SOLUTION"
   ]
  },
  {
   "cell_type": "markdown",
   "metadata": {},
   "source": [
    "## Monte Carlo\n",
    "\n",
    "*Exercise 7:* Write a \"generator\" function called `generate_function(func,x_min,x_max,N)`, that instead of generating a flat distribution, generates a distribution with functional form coded in `func`. Note that `func` will always be > 0.  \n",
    "\n",
    "Use the test function below and your histogramming functions above to demonstrate that your generator is working properly.\n",
    "\n",
    "Hint: A simple, but slow, solution is to a draw random number `test_x` within the specified range and another number `p` between the `min` and `max` of the function (which you will have to determine). If `p<=function(test_x)`, then place `test_x` on the output. If not, repeat the process, drawing two new numbers. Repeat until you have the specified number of generated numbers, `N`. For this problem, it's OK to determine the `min` and `max` by numerically sampling the function.  "
   ]
  },
  {
   "cell_type": "code",
   "execution_count": 24,
   "metadata": {},
   "outputs": [],
   "source": [
    "import random\n",
    "def generate_function(func,x_min,x_max,N=1000):\n",
    "    out = list()\n",
    "    ### BEGIN SOLUTION\n",
    "    x_values = [x_min + i *(x_max - x_min)/N for i in range(N)]\n",
    "    func_values = [func(x) for x in x_values]\n",
    "    func_min = min(func_values)\n",
    "    func_max = max(func_values)\n",
    "    \n",
    "    while len(out) < N:\n",
    "        test_x = random.uniform(x_min,x_max)\n",
    "        p = random.uniform(func_min, func_max)\n",
    "        if p <= func(test_x):\n",
    "            out.append(test_x)\n",
    "    \n",
    "    ### END SOLUTION\n",
    "    \n",
    "    return out"
   ]
  },
  {
   "cell_type": "code",
   "execution_count": 25,
   "metadata": {},
   "outputs": [
    {
     "name": "stdout",
     "output_type": "stream",
     "text": [
      "[-10.0, -9.0] : ####################\n",
      "[-9.0, -8.0] : ###############\n",
      "[-8.0, -7.0] : ###############\n",
      "[-7.0, -6.0] : ###########\n",
      "[-6.0, -5.0] : ###########\n",
      "[-5.0, -4.0] : #####\n",
      "[-4.0, -3.0] : ####\n",
      "[-3.0, -2.0] : ###\n",
      "[-2.0, -1.0] : \n",
      "[-1.0,  0.0] : \n",
      "[ 0.0,  1.0] : ###\n",
      "[ 1.0,  2.0] : #####\n",
      "[ 2.0,  3.0] : #######\n",
      "[ 3.0,  4.0] : #############\n",
      "[ 4.0,  5.0] : ############\n",
      "[ 5.0,  6.0] : ###########\n",
      "[ 6.0,  7.0] : ##################\n",
      "[ 7.0,  8.0] : ################\n",
      "[ 8.0,  9.0] : ##################\n",
      "[90, 69, 71, 51, 51, 25, 20, 17, 3, 2, 15, 25, 34, 61, 56, 51, 85, 76, 84, 0]\n"
     ]
    }
   ],
   "source": [
    "# A test function\n",
    "def test_func(x,a=1,b=1):\n",
    "    return abs(a*x+b)\n",
    "\n",
    "result = generate_function(test_func,-10,10)\n",
    "h,b = histogram(result,20)\n",
    "hist = draw_histogram(result, 20)\n",
    "print(h)"
   ]
  },
  {
   "cell_type": "markdown",
   "metadata": {},
   "source": [
    "*Exercise 8:* Use your function to generate 1000 numbers that are normal distributed, using the `gaussian` function below. Confirm the mean and variance of the data is close to the mean and variance you specify when building the Gaussian. Histogram the data. "
   ]
  },
  {
   "cell_type": "code",
   "execution_count": 26,
   "metadata": {},
   "outputs": [
    {
     "name": "stdout",
     "output_type": "stream",
     "text": [
      "-0.010668709528124208\n",
      "0.9620502154019999\n",
      "[-2.7, -2.4] : #\n",
      "[-2.4, -2.1] : #\n",
      "[-2.1, -1.8] : ##\n",
      "[-1.8, -1.5] : #######\n",
      "[-1.5, -1.2] : #########\n",
      "[-1.2, -0.8] : #############\n",
      "[-0.8, -0.5] : ################\n",
      "[-0.5, -0.2] : ##################\n",
      "[-0.2,  0.1] : ####################\n",
      "[ 0.1,  0.4] : ##################\n",
      "[ 0.4,  0.7] : ###################\n",
      "[ 0.7,  1.0] : ############\n",
      "[ 1.0,  1.3] : ###########\n",
      "[ 1.3,  1.6] : #######\n",
      "[ 1.6,  1.9] : ####\n",
      "[ 1.9,  2.2] : ##\n",
      "[ 2.2,  2.5] : #\n",
      "[ 2.5,  2.8] : \n",
      "[ 2.8,  3.1] : \n"
     ]
    }
   ],
   "source": [
    "import math\n",
    "\n",
    "def gaussian(mean, sigma):\n",
    "    def f(x):\n",
    "        return math.exp(-((x-mean)**2)/(2*sigma**2))/math.sqrt(math.pi*sigma)\n",
    "    return f\n",
    "\n",
    "# Example Instantiation\n",
    "g1=gaussian(0,1)\n",
    "g2=gaussian(10,3)\n",
    "\n",
    "generate_data = generate_function(g1,-10,10,1000)\n",
    "print(mean(generate_data))\n",
    "print(variance(generate_data))\n",
    "hist = draw_histogram(generate_data, 20)\n"
   ]
  },
  {
   "cell_type": "markdown",
   "metadata": {},
   "source": [
    "*Exercise 9:* Combine your `generate_function`, `where`, and `in_range` functions above to create an integrate function. Use your integrate function to show that approximately 68% of Normal distribution is within one variance."
   ]
  },
  {
   "cell_type": "code",
   "execution_count": 27,
   "metadata": {},
   "outputs": [],
   "source": [
    "def integrate(func, x_min, x_max, n_points=1000):\n",
    "    data = generate_function(func, x_min, x_max, n_points)\n",
    "    range_min = mean - sigma\n",
    "    range_max = mean + sigma\n",
    "    in_range_data = where(data, in_range(range_min, range_max))\n",
    "    integral = len(in_range_data) / n_points\n",
    "    return integral"
   ]
  },
  {
   "cell_type": "code",
   "execution_count": 28,
   "metadata": {},
   "outputs": [
    {
     "name": "stdout",
     "output_type": "stream",
     "text": [
      "Proportion within one variance: 70.40%\n"
     ]
    }
   ],
   "source": [
    "mean = 0\n",
    "sigma = 1\n",
    "gaussian_func = gaussian(mean, sigma)\n",
    "\n",
    "x_min = mean - 4 * sigma\n",
    "x_max = mean + 4 * sigma\n",
    "\n",
    "proportion = integrate(gaussian_func, x_min, x_max)\n",
    "\n",
    "print(f\"Proportion within one variance: {proportion * 100:.2f}%\")"
   ]
  },
  {
   "cell_type": "code",
   "execution_count": null,
   "metadata": {},
   "outputs": [],
   "source": []
  }
 ],
 "metadata": {
  "kernelspec": {
   "display_name": "Python 3 (ipykernel)",
   "language": "python",
   "name": "python3"
  },
  "language_info": {
   "codemirror_mode": {
    "name": "ipython",
    "version": 3
   },
   "file_extension": ".py",
   "mimetype": "text/x-python",
   "name": "python",
   "nbconvert_exporter": "python",
   "pygments_lexer": "ipython3",
   "version": "3.12.3"
  }
 },
 "nbformat": 4,
 "nbformat_minor": 2
}
